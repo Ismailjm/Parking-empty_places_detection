{
 "cells": [
  {
   "cell_type": "code",
   "execution_count": 11,
   "metadata": {},
   "outputs": [],
   "source": [
    "from ultralytics import YOLO\n",
    "import cv2"
   ]
  },
  {
   "cell_type": "code",
   "execution_count": null,
   "metadata": {},
   "outputs": [],
   "source": [
    "model = YOLO('yolov8s_parking.pt')\n",
    "# img = cv2.read()\n",
    "model.predict(source=\"par.jpg\",conf=0.25,save=True,show=True)"
   ]
  },
  {
   "cell_type": "code",
   "execution_count": 9,
   "metadata": {},
   "outputs": [
    {
     "name": "stderr",
     "output_type": "stream",
     "text": [
      "Ultralytics YOLOv8.0.134  Python-3.9.13 torch-2.0.1+cpu CPU\n",
      "Model summary (fused): 168 layers, 11126358 parameters, 0 gradients\n",
      "\n",
      "image 1/1 c:\\Users\\ismail\\Desktop\\project lesieur\\parking check\\papa.png: 416x640 6 emptys, 2 occupieds, 417.4ms\n",
      "Speed: 4.0ms preprocess, 417.4ms inference, 1.0ms postprocess per image at shape (1, 3, 416, 640)\n",
      "Results saved to \u001b[1mruns\\detect\\predict6\u001b[0m\n"
     ]
    }
   ],
   "source": [
    "!yolo task=detect mode=predict model=yolov8s_parking.pt show=True conf=0.25 source=\"papa.png\" line_width=1 save=True imgsz=640"
   ]
  },
  {
   "cell_type": "code",
   "execution_count": 19,
   "metadata": {},
   "outputs": [],
   "source": [
    "model = YOLO('yolov8s_parking.pt')\n",
    "img = cv2.imread(\"papa.png\")\n",
    "results = model(img, verbose=False)\n",
    "count = 0\n",
    "dimensions = []\n",
    "for r in results:\n",
    "        for c in r.boxes:\n",
    "            if model.names[int(c.cls)] == \"empty\" : \n",
    "                count+=1\n",
    "            x1, y1, x2, y2 = map(int, c.xyxy[0])\n",
    "            dimensions.append([x1, y1, x2, y2])\n",
    "    \n",
    "for dimension in dimensions:\n",
    "    x, y, w, h = dimension\n",
    "    cv2.rectangle(img, (x, y), (w, h), (255, 0, 255), 2)\n",
    "\n",
    "cv2.imshow('FRAME', img)\n",
    "cv2.waitKey(0)"
   ]
  },
  {
   "cell_type": "code",
   "execution_count": null,
   "metadata": {},
   "outputs": [],
   "source": []
  }
 ],
 "metadata": {
  "kernelspec": {
   "display_name": "Python 3",
   "language": "python",
   "name": "python3"
  },
  "language_info": {
   "codemirror_mode": {
    "name": "ipython",
    "version": 3
   },
   "file_extension": ".py",
   "mimetype": "text/x-python",
   "name": "python",
   "nbconvert_exporter": "python",
   "pygments_lexer": "ipython3",
   "version": "3.9.13"
  },
  "orig_nbformat": 4
 },
 "nbformat": 4,
 "nbformat_minor": 2
}
